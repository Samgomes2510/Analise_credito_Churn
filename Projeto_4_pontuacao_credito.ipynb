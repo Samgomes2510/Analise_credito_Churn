{
  "nbformat": 4,
  "nbformat_minor": 0,
  "metadata": {
    "colab": {
      "provenance": [],
      "authorship_tag": "ABX9TyPnzpDoYyvoBjd7e7mV2fgj",
      "include_colab_link": true
    },
    "kernelspec": {
      "name": "python3",
      "display_name": "Python 3"
    },
    "language_info": {
      "name": "python"
    }
  },
  "cells": [
    {
      "cell_type": "markdown",
      "metadata": {
        "id": "view-in-github",
        "colab_type": "text"
      },
      "source": [
        "<a href=\"https://colab.research.google.com/github/Samgomes2510/Analise_credito_Churn/blob/main/Projeto_4_pontuacao_credito.ipynb\" target=\"_parent\"><img src=\"https://colab.research.google.com/assets/colab-badge.svg\" alt=\"Open In Colab\"/></a>"
      ]
    },
    {
      "cell_type": "code",
      "source": [
        "!pip install plotly\n",
        "!pip install seaborn\n",
        "!pip install matplotlib\n",
        "!pip install plotly.express\n",
        "!pip install pandas\n"
      ],
      "metadata": {
        "id": "7fL2pNi7C11_"
      },
      "execution_count": null,
      "outputs": []
    },
    {
      "cell_type": "code",
      "execution_count": null,
      "metadata": {
        "id": "W8ae_ekB6AHm"
      },
      "outputs": [],
      "source": [
        "# Importando bibliotecas\n",
        "import pandas as pd\n",
        "import seaborn as sns\n",
        "import matplotlib.pyplot as plt\n",
        "import plotly.express as px\n",
        "\n",
        "# Carregando os dados\n",
        "df = pd.read_csv('CREDIT_SCORE_PROJETO_PARTE1.csv', delimiter=';')\n",
        "\n",
        "# Visualizando as primeiras linhas\n",
        "df.head()\n"
      ]
    },
    {
      "cell_type": "code",
      "source": [
        "# Corrigindo o formato de renda: de string para float\n",
        "df['Income'] = df['Income'].str.replace('.', '').str.replace(',', '.').astype(float)\n",
        "\n",
        "# Verificando os tipos de dados\n",
        "df.dtypes"
      ],
      "metadata": {
        "id": "EMlzPjR3C04_"
      },
      "execution_count": null,
      "outputs": []
    },
    {
      "cell_type": "code",
      "source": [
        "# Verificando valores nulos\n",
        "df.isnull().sum()\n",
        "\n",
        "# Tratando a coluna Age preenchendo pela média (idade é numérica contínua)\n",
        "df['Age'].fillna(df['Age'].mean(), inplace=True)"
      ],
      "metadata": {
        "id": "E7s7XHOrEudB"
      },
      "execution_count": null,
      "outputs": []
    },
    {
      "cell_type": "code",
      "source": [
        "# Verificando valores únicos\n",
        "for col in df.select_dtypes(include='object'):\n",
        "    print(f\"\\n{col}:\")\n",
        "    print(df[col].value_counts())\n",
        "\n",
        "# Padronizando gênero (caso haja variação de maiúsculas/minúsculas)\n",
        "df['Gender'] = df['Gender'].str.capitalize()"
      ],
      "metadata": {
        "id": "uvgnKy3QEwBy"
      },
      "execution_count": null,
      "outputs": []
    },
    {
      "cell_type": "markdown",
      "source": [
        "#**ETAPA 2 – ANÁLISE UNIVARIADA**"
      ],
      "metadata": {
        "id": "6gbEmNUwFI5k"
      }
    },
    {
      "cell_type": "code",
      "source": [
        "df.describe()"
      ],
      "metadata": {
        "id": "6i--EV68E6ry"
      },
      "execution_count": null,
      "outputs": []
    },
    {
      "cell_type": "code",
      "source": [
        "sns.histplot(df['Age'], kde=True)\n",
        "plt.title('Distribuição da Idade')\n",
        "plt.show()"
      ],
      "metadata": {
        "id": "NWgNrDCfFbBh"
      },
      "execution_count": null,
      "outputs": []
    },
    {
      "cell_type": "code",
      "source": [
        "sns.boxplot(x=df['Income'])\n",
        "plt.title('Bocplot da Renda')\n",
        "plt.show()"
      ],
      "metadata": {
        "id": "-cJPODjKFjQX"
      },
      "execution_count": null,
      "outputs": []
    },
    {
      "cell_type": "code",
      "source": [
        "sns.countplot(data=df, x='Credit Score')\n",
        "plt.title('Distribuição do Score de Crédito')\n",
        "plt.show()"
      ],
      "metadata": {
        "id": "KwWxV0peFxFm"
      },
      "execution_count": null,
      "outputs": []
    },
    {
      "cell_type": "code",
      "source": [
        "plt.figure(figsize=(10,5))\n",
        "sns.countplot(data=df, x='Education', order=df['Education'].value_counts().index)\n",
        "plt.title('Distribuição por Escolaridade')\n",
        "plt.xticks(rotation=45)\n",
        "plt.show()"
      ],
      "metadata": {
        "id": "YJvr9Ac2F-EU"
      },
      "execution_count": null,
      "outputs": []
    },
    {
      "cell_type": "code",
      "source": [
        "# Verificando outliers em renda\n",
        "q1 = df['Income'].quantile(0.25)\n",
        "q3 = df['Income'].quantile(0.75)\n",
        "iqr = q3 - q1\n",
        "limite_superior = q3 + 1.5 * iqr\n",
        "\n",
        "# Mantendo outliers por se tratar de renda alta realista\n",
        "df[df['Income'] > limite_superior]"
      ],
      "metadata": {
        "id": "DQVQngKkGOvj"
      },
      "execution_count": null,
      "outputs": []
    },
    {
      "cell_type": "markdown",
      "source": [
        " # **ETAPA 3 – ANÁLISE BIVARIADA**"
      ],
      "metadata": {
        "id": "X1MaXQcfGTom"
      }
    },
    {
      "cell_type": "code",
      "source": [
        "sns.boxplot(x='Marital Status', y='Age', data=df)\n",
        "plt.title('Idade Por Estado Civil')\n",
        "plt.show()"
      ],
      "metadata": {
        "id": "j_6xlvynGf1v"
      },
      "execution_count": null,
      "outputs": []
    },
    {
      "cell_type": "code",
      "source": [
        "sns.countplot(data=df, x='Education', hue='Credit Score')\n",
        "plt.title('Score por Escolaridade')\n",
        "plt.xticks(rotation=45)\n",
        "plt.show()"
      ],
      "metadata": {
        "id": "lKCwUb6jHFj9"
      },
      "execution_count": null,
      "outputs": []
    },
    {
      "cell_type": "code",
      "source": [
        "sns.scatterplot(data=df, x='Age', y='Income')\n",
        "plt.title('Idade x Renda')\n",
        "plt.show()"
      ],
      "metadata": {
        "id": "tkUaI3BOHcL2"
      },
      "execution_count": null,
      "outputs": []
    },
    {
      "cell_type": "code",
      "source": [
        "sns.boxplot(x='Credit Score', y='Income', data=df)\n",
        "plt.title('Renda Por Score de Crédito')\n",
        "plt.show()"
      ],
      "metadata": {
        "id": "KD_6bIOsHxtR"
      },
      "execution_count": null,
      "outputs": []
    },
    {
      "cell_type": "code",
      "source": [
        "sns.countplot(data=df, x='Home Ownership', hue='Credit Score')\n",
        "plt.title('Score de Crédito por Tipo de Residência')\n",
        "plt.show()"
      ],
      "metadata": {
        "id": "VNSt3R9hIJNG"
      },
      "execution_count": null,
      "outputs": []
    },
    {
      "cell_type": "code",
      "source": [
        "# Score vs Gênero\n",
        "sns.countplot(data=df, x='Gender', hue='Credit Score')\n",
        "plt.title('Score por Gênero')\n",
        "plt.show()\n",
        "\n",
        "# Score vs Número de filhos\n",
        "sns.boxplot(x='Credit Score', y='Number of Children', data=df)\n",
        "plt.title('Número de Filhos por Score')\n",
        "plt.show()\n",
        "\n",
        "# Renda média por nível de escolaridade\n",
        "renda_edu = df.groupby('Education')['Income'].mean().sort_values()\n",
        "renda_edu.plot(kind='bar', title='Renda média por Escolaridade', figsize=(10,5))\n",
        "plt.ylabel('Renda Média')\n",
        "plt.show()"
      ],
      "metadata": {
        "id": "UOWlbVmNJATN"
      },
      "execution_count": null,
      "outputs": []
    },
    {
      "cell_type": "code",
      "source": [
        "!pip install imblearn"
      ],
      "metadata": {
        "id": "yxwi9W4nJEaY"
      },
      "execution_count": null,
      "outputs": []
    },
    {
      "cell_type": "code",
      "source": [
        "import pandas as pd\n",
        "import seaborn as sns\n",
        "import matplotlib.pyplot as plt\n",
        "from sklearn.preprocessing import LabelEncoder\n",
        "from sklearn.model_selection import train_test_split\n",
        "from imblearn.over_sampling import SMOTE\n"
      ],
      "metadata": {
        "id": "xBfAdyTNKzny"
      },
      "execution_count": null,
      "outputs": []
    },
    {
      "cell_type": "code",
      "source": [
        "# Carregando a base de dados\n",
        "df = pd.read_csv('CREDIT_SCORE_PROJETO_PARTE1.csv', delimiter=';')\n",
        "\n",
        "df.head(10)"
      ],
      "metadata": {
        "id": "w8ayQMl7LAlK"
      },
      "execution_count": null,
      "outputs": []
    },
    {
      "cell_type": "code",
      "source": [
        "# Tratamento da coluna 'Income'\n",
        "df['Income'] = df['Income'].str.replace('.', '', regex=False).str.replace(',', '.', regex=False).astype(float)\n",
        "\n"
      ],
      "metadata": {
        "id": "cv7H57gdLO_w"
      },
      "execution_count": null,
      "outputs": []
    },
    {
      "cell_type": "code",
      "source": [
        "# Tratando a coluna Age preenchendo pela média (idade é numérica contínua) - Repetindo para garantir no novo df\n",
        "df['Age'].fillna(df['Age'].mean(), inplace=True)"
      ],
      "metadata": {
        "id": "c9nUxG-5MqIQ"
      },
      "execution_count": null,
      "outputs": []
    },
    {
      "cell_type": "code",
      "source": [
        "# Correlação entre variáveis numéricas\n",
        "corr_numeric = df[['Age', 'Income', 'Number of Children']].corr()\n",
        "plt.figure(figsize=(8, 6))\n",
        "sns.heatmap(corr_numeric, annot=True, cmap='coolwarm')\n",
        "plt.title('Correlação entre variáveis numéricas')\n",
        "plt.show()"
      ],
      "metadata": {
        "id": "sqxttTJtMzdM"
      },
      "execution_count": null,
      "outputs": []
    },
    {
      "cell_type": "code",
      "source": [
        "# Codificação de variáveis categóricas com LabelEncoder\n",
        "df_encoded = df.copy()\n",
        "label = LabelEncoder()\n",
        "for col in df_encoded.select_dtypes(include='object'):\n",
        "    df_encoded[col] = label.fit_transform(df_encoded[col])\n"
      ],
      "metadata": {
        "id": "CcTZC-24M3YS"
      },
      "execution_count": null,
      "outputs": []
    },
    {
      "cell_type": "code",
      "source": [
        "# Verificando e imputando quaisquer NaNs restantes antes de separar X e y\n",
        "print(\"Verificando NaNs antes da divisão:\")\n",
        "print(df_encoded.isnull().sum())"
      ],
      "metadata": {
        "id": "_ELFtupkM81k"
      },
      "execution_count": null,
      "outputs": []
    },
    {
      "cell_type": "code",
      "source": [
        "# Se houver NaNs, imputar com a média (ou outra estratégia apropriada)\n",
        "# Neste caso, vamos imputar com a média para colunas numéricas restantes\n",
        "for col in df_encoded.select_dtypes(include='number'):\n",
        "    if df_encoded[col].isnull().any():\n",
        "        print(f\"Imputando coluna '{col}' com a média.\")\n",
        "        df_encoded[col].fillna(df_encoded[col].mean(), inplace=True)\n",
        "\n",
        "print(\"\\nVerificando NaNs após imputação:\")\n",
        "print(df_encoded.isnull().sum())\n"
      ],
      "metadata": {
        "id": "7zPiqMbkNCuU"
      },
      "execution_count": null,
      "outputs": []
    },
    {
      "cell_type": "code",
      "source": [
        "# Nova matriz de correlação\n",
        "plt.figure(figsize=(10, 8))\n",
        "sns.heatmap(df_encoded.corr(), annot=True, cmap='Blues')\n",
        "plt.title('Correlação após codificação das variáveis')\n",
        "plt.show()\n"
      ],
      "metadata": {
        "id": "sN898Z3YNM0O"
      },
      "execution_count": null,
      "outputs": []
    },
    {
      "cell_type": "code",
      "source": [
        "# Separando features e alvo\n",
        "X = df_encoded.drop('Credit Score', axis=1)\n",
        "y = df_encoded['Credit Score']\n"
      ],
      "metadata": {
        "id": "GtEyWFmgNUkb"
      },
      "execution_count": null,
      "outputs": []
    },
    {
      "cell_type": "code",
      "source": [
        "# Divisão em treino e teste\n",
        "X_train, X_test, y_train, y_test = train_test_split(X, y, test_size=0.2, random_state=42)\n"
      ],
      "metadata": {
        "id": "TKPCZlVmNeFn"
      },
      "execution_count": null,
      "outputs": []
    },
    {
      "cell_type": "code",
      "source": [
        "# Verificando balanceamento do alvo\n",
        "sns.countplot(x=y_train)\n",
        "plt.title(\"Distribuição do Credit Score na base de treino\")\n",
        "plt.show()"
      ],
      "metadata": {
        "id": "qqRtrtZ-Nhr4"
      },
      "execution_count": null,
      "outputs": []
    },
    {
      "cell_type": "code",
      "source": [
        "# Aplicando SMOTE para balancear os dados de treino\n",
        "sm = SMOTE(random_state=42)\n",
        "X_train_bal, y_train_bal = sm.fit_resample(X_train, y_train)\n"
      ],
      "metadata": {
        "id": "3D4sbKcyNmwM"
      },
      "execution_count": null,
      "outputs": []
    },
    {
      "cell_type": "code",
      "source": [
        "# Verificando o balanceamento após SMOTE\n",
        "sns.countplot(x=y_train_bal)\n",
        "plt.title(\"Distribuição após SMOTE (base de treino)\")\n",
        "plt.show()"
      ],
      "metadata": {
        "id": "UcG9YIl-NqCG"
      },
      "execution_count": null,
      "outputs": []
    }
  ]
}